{
 "cells": [
  {
   "cell_type": "code",
   "execution_count": null,
   "metadata": {},
   "outputs": [],
   "source": [
    "import tenseal as ts\n",
    "import yapf.yapflib.yapf_api as yapf\n",
    "from google.cloud import storage\n",
    "from seal import EncryptionParameters, SEALContext, KeyGenerator, PublicKey, Encryptor, Ciphertext, Evaluator, Decryptor\n",
    "from Pyfhel import Pyfhel, PyPtxt, PyCtxt\n",
    "from deepface import DeepFace\n",
    "import base64\n",
    "import deepface.commons.distance as dst"
   ]
  },
  {
   "cell_type": "code",
   "execution_count": null,
   "metadata": {},
   "outputs": [],
   "source": [
    "client = storage.Client()"
   ]
  },
  {
   "cell_type": "code",
   "execution_count": null,
   "metadata": {},
   "outputs": [],
   "source": [
    "HE = Pyfhel()\n",
    "HE.contextGen(p=65537, m=1024, flagBatching=True)  \n",
    "HE.keyGen() "
   ]
  },
  {
   "cell_type": "code",
   "execution_count": null,
   "metadata": {},
   "outputs": [],
   "source": [
    "parms = EncryptionParameters(scheme_type.BFV)\n",
    "parms.set_poly_modulus_degree(4096)\n",
    "parms.set_coeff_modulus(CoeffModulus.BFVDefault(4096))\n",
    "parms.set_plain_modulus(256)\n",
    "context = SEALContext.Create(parms)\n",
    "keygen = KeyGenerator(context)\n",
    "public_key = keygen.public_key()\n",
    "encryptor = Encryptor(context, public_key)"
   ]
  },
  {
   "cell_type": "code",
   "execution_count": null,
   "metadata": {},
   "outputs": [],
   "source": [
    "def write_data(bucket_name, file_name, data):\n",
    "    if type(data) == bytes:\n",
    "        data = base64.b64encode(data)\n",
    "    bucket = client.get_bucket(bucket_name)\n",
    "    blob = bucket.blob(file_name)\n",
    "    blob.upload_from_string(data)"
   ]
  },
  {
   "cell_type": "code",
   "execution_count": null,
   "metadata": {},
   "outputs": [],
   "source": [
    "def read_data(bucket_name, file_name):\n",
    "    bucket = client.get_bucket(bucket_name)\n",
    "    blob = bucket.get_blob(file_name)\n",
    "    data = blob.download_as_text()\n",
    "    return base64.b64decode(data)\n"
   ]
  },
  {
   "cell_type": "code",
   "execution_count": null,
   "metadata": {},
   "outputs": [],
   "source": [
    "def main():\n",
    "    img1_path = \"../pics/andrew1.png\"\n",
    "    img2_path = \"../pics/andrew4.png\"\n",
    "    img1_embedding = DeepFace.represent(img1_path, model_name='Facenet')[0][\"embedding\"]\n",
    "    img2_embedding = DeepFace.represent(img2_path, model_name='Facenet')[0][\"embedding\"]\n",
    "\n",
    "    img1_embedding_encoded = yapf.FormatCode(img1_embedding)\n",
    "    img2_embedding_encoded = yapf.FormatCode(img2_embedding)\n",
    "\n",
    "    img1_embedding_encrypted = Ciphertext()\n",
    "    encryptor.encrypt(encoder.encode(img1_embedding_encoded), img1_embedding_encrypted)\n",
    "    img2_embedding_encrypted = Ciphertext()\n",
    "    encryptor.encrypt(encoder.encode(img2_embedding_encoded), img2_embedding_encrypted)\n",
    "\n",
    "    smc_result = HE.add(img1_embedding_encrypted, img2_embedding_encrypted)\n",
    "\n",
    "    img1_embedding_decrypted = HE.decrypt(img1_embedding_encrypted)\n",
    "    img2_embedding_decrypted = HE.decrypt(img2_embedding_encrypted)\n",
    "    smc_result_decrypted = HE.decrypt(smc_result)\n",
    "\n",
    "    distance = dst.findEuclideanDistance(img1_embedding_decrypted, img2_embedding_decrypted)\n",
    "    squared_distance = distance * distance\n",
    "    if smc_result_decrypted < 100:\n",
    "        print(\"They are the same person\")\n",
    "    else:\n",
    "        print(\"They are different persons\")\n",
    "\n",
    "    print(\"Euclidean squared - traditional: \", squared_distance)\n",
    "    print(\"Euclidean squared - homomorphic: \", smc_result_decrypted)\n",
    "    assert abs(squared_distance - smc_result_decrypted) < 0.00001\n",
    "\n",
    "    write_data(\"iotHomomorphicBucket\", \"enc_v1.txt\", img1_embedding_encrypted)\n",
    "    write_data(\"iotHomomorphicBucket\", \"enc_v2.txt\", img2_embedding_encrypted)\n",
    "    write_data(\"iotHomomorphicBucket\", \"result.txt\", smc_result)\n",
    "\n",
    "    img1_embedding_encrypted = read_data(\"iotHomomorphicBucket\", \"enc_v1.txt\")\n",
    "    img2_embedding_encrypted = read_data(\"iotHomomorphicBucket\", \"enc_v2.txt\")\n",
    "    smc_result = read_data(\"iotHomomorphicBucket\", \"result.txt\")\n",
    "\n",
    "if __name__ == \"__main__\":\n",
    "    main()"
   ]
  }
 ],
 "metadata": {
  "language_info": {
   "name": "python"
  },
  "orig_nbformat": 4
 },
 "nbformat": 4,
 "nbformat_minor": 2
}
