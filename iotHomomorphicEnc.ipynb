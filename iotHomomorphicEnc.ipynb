{
 "cells": [
  {
   "cell_type": "code",
   "execution_count": null,
   "metadata": {},
   "outputs": [],
   "source": [
    "import boto3\n",
    "import tenseal as ts\n",
    "from deepface import DeepFace\n",
    "import base64\n",
    "import math\n",
    "import deepface.commons.distance as dst\n",
    "import random\n",
    "import unittest"
   ]
  },
  {
   "cell_type": "code",
   "execution_count": null,
   "metadata": {},
   "outputs": [],
   "source": [
    "aws_access_key = s3.access_key\n",
    "aws_secret_key = s3.secret_key\n",
    "s3 = boto3.client('s3', aws_access_key_id=aws_access_key, aws_secret_access_key=aws_secret_key)"
   ]
  },
  {
   "cell_type": "code",
   "execution_count": null,
   "metadata": {},
   "outputs": [],
   "source": [
    "def write_data_to_s3(bucket, key, data):\n",
    "    if type(data) == bytes:\n",
    "        data = base64.b64encode(data)\n",
    "    s3.put_object(Bucket=bucket, Key=key, Body=data)\n"
   ]
  },
  {
   "cell_type": "code",
   "execution_count": null,
   "metadata": {},
   "outputs": [],
   "source": [
    "def read_data_from_s3(bucket, key):\n",
    "    response = s3.get_object(Bucket=bucket, Key=key)\n",
    "    data = response['Body'].read()\n",
    "    return base64.b64decode(data)\n"
   ]
  },
  {
   "cell_type": "code",
   "execution_count": null,
   "metadata": {},
   "outputs": [],
   "source": [
    "def euclidean_squared(v1, v2):\n",
    "    return (v1 - v2).dot(v1 - v2)"
   ]
  },
  {
   "cell_type": "code",
   "execution_count": null,
   "metadata": {},
   "outputs": [],
   "source": [
    "def main():\n",
    "    img1_path = \"../pics/andrew1.png\"\n",
    "    img2_path = \"../pics/andrew4.png\"\n",
    "    img1_embedding = DeepFace.represent(img1_path, model_name='Facenet')[0][\"embedding\"]\n",
    "    img2_embedding = DeepFace.represent(img2_path, model_name='Facenet')[0][\"embedding\"]\n",
    "\n",
    "    context = ts.context(ts.SCHEME_TYPE.CKKS, poly_modulus_degree=8192, coeff_mod_bit_sizes=[60, 40, 40, 60])\n",
    "    context.generate_galois_keys()\n",
    "    context.global_scale = 2 ** 40\n",
    "    secret_context = context.serialize(save_secret_key=True)\n",
    "    write_data_to_s3(\"learnu7bucket\", \"secret.txt\", secret_context)\n",
    "    context.make_context_public()\n",
    "    public_context = context.serialize()\n",
    "    write_data_to_s3(\"learnu7bucket\", \"public.txt\", public_context)\n",
    "    del context, secret_context, public_context\n",
    "\n",
    "    context = ts.context_from(read_data_from_s3(\"learnu7bucket\", \"secret.txt\"))\n",
    "    enc_v1 = ts.ckks_vector(context, img1_embedding)\n",
    "    enc_v2 = ts.ckks_vector(context, img2_embedding)\n",
    "    enc_v1_proto = enc_v1.serialize()\n",
    "    enc_v2_proto = enc_v2.serialize()\n",
    "    write_data_to_s3(\"learnu7bucket\", \"enc_v1.txt\", enc_v1_proto)\n",
    "    write_data_to_s3(\"learnu7bucket\", \"enc_v2.txt\", enc_v2_proto)\n",
    "    del context, enc_v1, enc_v2\n",
    "\n",
    "    context = ts.context_from(read_data_from_s3(\"learnu7bucket\", \"public.txt\"))\n",
    "    enc_v1_proto = read_data_from_s3(\"learnu7bucket\", \"enc_v1.txt\")\n",
    "    enc_v1 = ts.lazy_ckks_vector_from(enc_v1_proto)\n",
    "    enc_v1.link_context(context)\n",
    "    enc_v2_proto = read_data_from_s3(\"learnu7bucket\", \"enc_v2.txt\")\n",
    "    enc_v2 = ts.lazy_ckks_vector_from(enc_v2_proto)\n",
    "    enc_v2.link_context(context)\n",
    "\n",
    "    euclidean_sq = euclidean_squared(enc_v1, enc_v2)\n",
    "    write_data_to_s3(\"learnu7bucket\", \"euclidean_squared.txt\", euclidean_sq.serialize())\n",
    "    del context, enc_v1, enc_v2, euclidean_sq\n",
    "\n",
    "    context = ts.context_from(read_data_from_s3(\"learnu7bucket\", \"secret.txt\"))\n",
    "    euclidean_sq_proto = read_data_from_s3(\"learnu7bucket\", \"euclidean_squared.txt\")\n",
    "    euclidean_sq = ts.lazy_ckks_vector_from(euclidean_sq_proto)\n",
    "    euclidean_sq.link_context(context)\n",
    "    euclidean_sq_plain = euclidean_sq.decrypt()[0]\n",
    "\n",
    "    distance = dst.findEuclideanDistance(img1_embedding, img2_embedding)\n",
    "    squared_distance = distance * distance\n",
    "    if euclidean_sq_plain < 10:\n",
    "        print(\"they are same person\")\n",
    "    else:\n",
    "        print(\"they are different persons\")\n",
    "\n",
    "    print(\"euclidean squared - tradational: \", distance * distance)\n",
    "    print(\"euclidean squared - homomorphic: \", euclidean_sq_plain)\n",
    "    assert abs(distance * distance - euclidean_sq_plain) < 0.00001\n",
    "\n",
    "if __name__ == \"__main__\":\n",
    "    main()\n"
   ]
  }
 ],
 "metadata": {
  "language_info": {
   "name": "python"
  },
  "orig_nbformat": 4
 },
 "nbformat": 4,
 "nbformat_minor": 2
}
